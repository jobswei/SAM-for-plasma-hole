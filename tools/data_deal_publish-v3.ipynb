{
 "cells": [
  {
   "cell_type": "code",
   "execution_count": 1,
   "metadata": {},
   "outputs": [],
   "source": [
    "from segment_anything import SamPredictor, sam_model_registry\n",
    "from segment_anything import SamAutomaticMaskGenerator, sam_model_registry\n",
    "\n",
    "import cv2\n",
    "import numpy as np\n",
    "import matplotlib.pyplot as plt\n",
    "from PIL import Image\n",
    "from torchvision import transforms\n",
    "from matplotlib import pyplot as plt\n",
    "import numpy as np\n",
    "import matplotlib\n",
    "import pickle\n",
    "import os\n",
    "import os.path as osp   \n",
    "import tqdm\n",
    "from scipy.ndimage import label\n"
   ]
  },
  {
   "cell_type": "code",
   "execution_count": 2,
   "metadata": {},
   "outputs": [],
   "source": [
    "def show_mask(mask, ax, random_color=False):\n",
    "    if random_color:\n",
    "        color = np.concatenate([np.random.random(3), np.array([0.6])], axis=0)\n",
    "    else:\n",
    "        color = np.array([30/255, 144/255, 255/255, 0.6])\n",
    "    h, w = mask.shape[-2:]\n",
    "    mask_image = mask.reshape(h, w, 1) * color.reshape(1, 1, -1)\n",
    "    ax.imshow(mask_image)\n",
    "    \n",
    "def show_points(coords, labels, ax, marker_size=100):\n",
    "    pos_points = coords[labels==1]\n",
    "    neg_points = coords[labels==0]\n",
    "    ax.scatter(pos_points[:, 0], pos_points[:, 1], color='green', marker='*', s=marker_size, edgecolor='white', linewidth=1.25)\n",
    "    ax.scatter(neg_points[:, 0], neg_points[:, 1], color='red', marker='*', s=marker_size, edgecolor='white', linewidth=1.25)   \n",
    "    \n",
    "def show_box(box, ax):\n",
    "    x0, y0 = box[0], box[1]\n",
    "    w, h = box[2] - box[0], box[3] - box[1]\n",
    "    ax.add_patch(plt.Rectangle((x0, y0), w, h, edgecolor='green', facecolor=(0,0,0,0), lw=2))    \n",
    "def getImage(image,resize=(256,256)):\n",
    "    cmap = matplotlib.colormaps[\"viridis\"]\n",
    "    norm = plt.Normalize(image.min(), image.max())\n",
    "    rgba_image = cmap(norm(image))\n",
    "    rgb_image = np.array(rgba_image[:, :, :3])\n",
    "    rgb_array_scaled = (rgb_image * 255).astype(np.uint8)\n",
    "    if resize==-1:\n",
    "        return rgb_array_scaled\n",
    "    image_pil = Image.fromarray(rgb_array_scaled)\n",
    "    new_size = resize\n",
    "    resized_image_pil = image_pil.resize(new_size, Image.LANCZOS)\n",
    "    return np.array(resized_image_pil)\n",
    "def show(image):\n",
    "    plt.figure()\n",
    "    plt.axis(\"off\")\n",
    "    plt.imshow(image)\n",
    "    plt.show()\n",
    "\n",
    "def to_origin(mask,size=(401,31)):\n",
    "    mask_img=Image.fromarray(mask)\n",
    "    mask_img=mask_img.resize(size,Image.LANCZOS)\n",
    "    mask_img=np.array(mask_img)\n",
    "    return mask_img\n",
    "\n",
    "def display_result(image, mask):\n",
    "    plt.figure()\n",
    "    plt.imshow(image)\n",
    "    # show_box(input_box, plt.gca())\n",
    "    show_mask(mask, plt.gca())\n",
    "    # show_points(input_point, input_label, plt.gca())\n",
    "    # plt.title(f\"Mask {i+1}, Score: {score:.3f}\", fontsize=18)\n",
    "    plt.axis('off')\n",
    "    # plt.savefig(f\"./outputs/res{i}.jpg\")\n",
    "    plt.show()\n",
    "def find_connected_masks(mask_matrix, target_point):\n",
    "    # 标记连通区域\n",
    "    labeled_matrix, num_labels = label(mask_matrix)\n",
    "\n",
    "    # 找到与给定点相连的mask\n",
    "    connected_mask = (labeled_matrix == labeled_matrix[target_point])\n",
    "    # print(type(connected_mask))\n",
    "    # print(connected_mask)\n",
    "\n",
    "    return connected_mask"
   ]
  },
  {
   "cell_type": "code",
   "execution_count": 3,
   "metadata": {},
   "outputs": [],
   "source": [
    "def S_inte(f, mask:np.ndarray, x_range=[0,2*np.pi],y_range=[-0.1,0.1]):\n",
    "    y_len, x_len = mask.shape\n",
    "    x_lis=np.linspace(x_range[0],x_range[1],x_len)\n",
    "    y_lis=np.linspace(y_range[0],y_range[1],y_len)\n",
    "    dj=f(x_lis,y_lis[:,None])*mask\n",
    "    f=np.trapz(dj,x_lis)\n",
    "    fg = np.trapz(f,y_lis)\n",
    "    return fg\n",
    "\n",
    "def FL(f_trap,delta,mask_origin, mgL,x_range=[0,2*np.pi]):\n",
    "    def numerator(x,y):\n",
    "        return mgL*np.sin(x-delta)*f_trap\n",
    "    def denominator(x,y):\n",
    "        return f_trap\n",
    "    return S_inte(numerator,mask_origin, x_range=x_range)/S_inte(denominator,mask_origin,x_range=x_range)"
   ]
  },
  {
   "cell_type": "code",
   "execution_count": 4,
   "metadata": {},
   "outputs": [],
   "source": [
    "sam = sam_model_registry[\"vit_h\"](checkpoint=\"/home/wzy/segment-anything/checkpoints/sam_vit_h_4b8939.pth\")\n",
    "sam.to(device=\"cuda\")\n",
    "predictor = SamPredictor(sam)\n",
    "\n",
    "mask_generator = SamAutomaticMaskGenerator(sam)"
   ]
  },
  {
   "cell_type": "code",
   "execution_count": 5,
   "metadata": {},
   "outputs": [],
   "source": [
    "def find_min(arr,num_candidate=10):\n",
    "    flattened_indices = np.argsort(arr.flatten())\n",
    "\n",
    "    # 取前10个索引\n",
    "    top_10_indices = flattened_indices[:num_candidate]\n",
    "\n",
    "    # 将一维索引转换为二维索引\n",
    "    row_indices, col_indices = np.unravel_index(top_10_indices, arr.shape)\n",
    "\n",
    "    # 输出前10小的数和它们的位置\n",
    "    # print(\"Top 10 smallest values:\", arr[row_indices, col_indices])\n",
    "    # print(\"Corresponding indices:\", list(zip(row_indices, col_indices)))\n",
    "    return arr[row_indices, col_indices], list(zip(row_indices, col_indices))\n",
    "def distance(point1,point2):\n",
    "    delta=np.array(point1)-np.array(point2)\n",
    "    return delta[0]**2+delta[1]**2\n",
    "def get_fix_point(f_trap,num_candidate=10):\n",
    "    center=np.array(f_trap.shape)/2\n",
    "    _, positions=find_min(f_trap,num_candidate)\n",
    "    dists=np.array(list(map(lambda x:distance(center,x), positions)))\n",
    "    min_index = np.argmin(dists)\n",
    "    return list(positions[min_index])\n",
    "def get_fix_points(f_trap,k=4,num_candidate=10):\n",
    "    center=np.array(f_trap.shape)/2\n",
    "    _, positions=find_min(f_trap,num_candidate)\n",
    "    dists=np.array(list(map(lambda x:distance(center,x), positions)))\n",
    "    dist_sort=np.argsort(dists)\n",
    "    top_k=dist_sort[:k]\n",
    "    print(top_k)\n",
    "    return [list(positions[i]) for i in top_k]\n",
    "\n",
    "def multi_point(input_point, radius=5, num_points=5):\n",
    "    theta = np.linspace(0, 2*np.pi, num_points, endpoint=False)\n",
    "    x = input_point[0] + radius * np.cos(theta)\n",
    "    y = input_point[1] + radius * np.sin(theta)\n",
    "    points = list(np.column_stack((x, y)))\n",
    "    # points.append(input_point)\n",
    "    return points\n"
   ]
  },
  {
   "cell_type": "code",
   "execution_count": 6,
   "metadata": {},
   "outputs": [],
   "source": [
    "def _get_mask(f_trap,image, predictor,thre=0.8,div=8,input_point=[[145,128]], show=False, save=False, save_dir=None):\n",
    "    # image=getImage(f_trap,(256,256))\n",
    "\n",
    "    # image = cv2.cvtColor(image, cv2.COLOR_BGR2RGB)\n",
    "\n",
    "    predictor.set_image(image)\n",
    "    input_point = np.array(input_point)\n",
    "    input_label = np.array([1]*len(input_point)) # 前景与背景\n",
    "    masks, scores, logits = predictor.predict(\n",
    "        point_coords=input_point,\n",
    "        point_labels=input_label,\n",
    "        multimask_output=False,\n",
    "    )\n",
    "    # print(masks.shape) # (number_of_masks) x H x W\n",
    "    mask=masks[0]\n",
    "    score=scores[0]\n",
    "    is_construct=True\n",
    "    center_point=tuple(np.mean(input_point,axis=0).astype(int))\n",
    "    mask=find_connected_masks(mask,center_point[::-1]) # 注意 网络输入point和数组point的xy索引是不一样的\n",
    "\n",
    "    # print(np.sum(mask[:,-3:-1]) + np.sum(mask[:,0:2])+np.sum(mask[-3:-1,:])+np.sum(mask[0:2,:]))\n",
    "    # print((mask.shape[0]+mask.shape[1])/8)\n",
    "    if np.sum(mask[:,-3:-1]) + np.sum(mask[:,0:2])+np.sum(mask[-3:-1,:])+np.sum(mask[0:2,:])\\\n",
    "        >(mask.shape[0]+mask.shape[1])/div or score<thre:    \n",
    "        is_construct=False\n",
    "        # print(\"false\")\n",
    "    if show:\n",
    "        plt.figure()\n",
    "        plt.imshow(f_trap)\n",
    "        # show_box(input_box, plt.gca())\n",
    "        if is_construct:\n",
    "            show_mask(mask, plt.gca())\n",
    "        show_points(input_point, input_label, plt.gca())\n",
    "        plt.title(f\"Score: {score:.3f} {is_construct}\", fontsize=10)\n",
    "        plt.axis('off')\n",
    "        # plt.savefig(f\"./outputs/res{i}.jpg\")\n",
    "        plt.show()\n",
    "    if save:\n",
    "        plt.figure()\n",
    "        plt.imshow(f_trap)\n",
    "        # show_box(input_box, plt.gca())\n",
    "        if is_construct:\n",
    "            show_mask(mask, plt.gca())\n",
    "        show_points(input_point, input_label, plt.gca())\n",
    "        plt.title(f\"Score: {score:.3f} {is_construct}\", fontsize=10)\n",
    "        plt.axis('off')\n",
    "        plt.savefig(save_dir,bbox_inches='tight')\n",
    "        plt.close()\n",
    "        # plt.show()\n",
    "    return mask, is_construct\n",
    "\n",
    "def get_mask(f_trap,delta_f, predictor,multi_points=True,fix_cneter_x=True,radias=25,num_points=4,num_candidate=10,thre=0.6,div=40,input_point=None, show=False, save=False, save_dir=None):\n",
    "    f_trap_2cir=getImage(np.concatenate((f_trap,f_trap),axis=0),(256,256*2))\n",
    "    delta_f_trap_2cir=np.concatenate((delta_f,delta_f),axis=0)\n",
    "    delta_f_trap_2cir_resize=to_origin(delta_f_trap_2cir,(256,256*2))\n",
    "    image=getImage(delta_f_trap_2cir_resize,(256,256*2))\n",
    "    # plt.imshow(image)\n",
    "\n",
    "\n",
    "    if input_point is None:\n",
    "        center_point=get_fix_point(delta_f_trap_2cir_resize,num_candidate=num_candidate)\n",
    "        center_point.reverse()\n",
    "        if fix_cneter_x:\n",
    "            center_point[0]=delta_f_trap_2cir_resize.shape[1]//2\n",
    "        if multi_points:\n",
    "            input_point=multi_point(center_point,radius=radias,num_points=num_points)\n",
    "            temp=[]\n",
    "            for point in input_point:\n",
    "                if point[1]<0 or point[1]>delta_f_trap_2cir_resize.shape[0]-1 or \\\n",
    "                point[0]<0 or point[0]>delta_f_trap_2cir_resize.shape[1]-1 or \\\n",
    "                    delta_f_trap_2cir_resize[int(point[1]),int(point[0])]>-0.0099: #0.1*delta_f_trap_2cir_resize[int(center_point[1]),int(center_point[0])]:\n",
    "                    continue\n",
    "                temp.append(point)\n",
    "            input_point=temp\n",
    "        else:\n",
    "            input_point=[center_point]\n",
    "        if not input_point:\n",
    "            input_point=[center_point]\n",
    "\n",
    "    \n",
    "    # print(input_point)\n",
    "    # plt.imshow(image)\n",
    "    mask, is_construct=_get_mask(f_trap_2cir,image,predictor,thre=thre,div=div,input_point=input_point,show=show,save=save,save_dir=save_dir)\n",
    "    return to_origin(mask,delta_f_trap_2cir.shape[::-1]), is_construct # 图片xy的顺序和数组xy的顺序是反的\n",
    "\n",
    "def get_FL(f_trap,delta, mask_origin, mgL,x_range=[0,2*np.pi]):\n",
    "    f_trap=np.transpose(f_trap)\n",
    "    mask_origin=np.transpose(mask_origin)\n",
    "    fl=FL(f_trap,delta,mask_origin, mgL,x_range=x_range)\n",
    "    # print(fl)\n",
    "    return fl\n",
    "def get_alpha(f_trap, delta,mask_origin, mgL,x_range=[0,2*np.pi]):\n",
    "    f_trap=np.transpose(f_trap)\n",
    "    mask_origin=np.transpose(mask_origin)\n",
    "    assert f_trap.shape==mask_origin.shape, f\"{f_trap.shape}!={mask_origin.shape}\"\n",
    "    fl=FL(f_trap,delta,mask_origin, mgL,x_range=x_range)\n",
    "    # print(fl)\n",
    "    return fl/mgL\n"
   ]
  },
  {
   "cell_type": "code",
   "execution_count": 11,
   "metadata": {},
   "outputs": [
    {
     "name": "stdout",
     "output_type": "stream",
     "text": [
      "(1001, 10, 31, 401)\n",
      "(998, 1000)\n",
      "(1001,)\n",
      "(1000, 1001)\n",
      "(1000, 1002, 2)\n",
      "(1000, 1000)\n",
      "(1001,)\n"
     ]
    }
   ],
   "source": [
    "# 第一组数据\n",
    "dist=np.load(\"/home/wzy/segment-anything/data/data1/newd.npy\")\n",
    "dist=dist.transpose(1,0,2,3)\n",
    "feq_lis=np.load(\"/home/wzy/segment-anything/data/data1/feq.npy\")\n",
    "feq_lis=np.transpose(feq_lis)\n",
    "print(dist.shape)\n",
    "wb_lis=np.load(\"/home/wzy/segment-anything/data/data1/wb2.npy\")\n",
    "print(wb_lis.shape)\n",
    "k_lis=np.load(\"/home/wzy/segment-anything/data/data1/kmode.npy\")\n",
    "print(k_lis.shape)\n",
    "wb_cplx_lis=np.load(\"/home/wzy/segment-anything/data/data1/wb2_cplx.npy\")\n",
    "print(wb_cplx_lis.shape)\n",
    "chor_lis=np.load(\"/home/wzy/segment-anything/data/data1/chor.npy\")\n",
    "print(chor_lis.shape)\n",
    "alpha_lis=np.load(\"/home/wzy/segment-anything/data/data1/alpha.npy\")\n",
    "print(alpha_lis.shape)\n",
    "zpos_lis=np.load(\"/home/wzy/segment-anything/data/data1/zpos.npy\")\n",
    "print(zpos_lis.shape)"
   ]
  },
  {
   "cell_type": "code",
   "execution_count": 8,
   "metadata": {},
   "outputs": [],
   "source": [
    "\n",
    "# # 第二组数据\n",
    "# zqs = [31,1201,201,8]\n",
    "# cnum=np.prod(zqs)\n",
    "# bs = cnum*8\n",
    "# offset = 0\n",
    "# dist = np.reshape(np.fromfile(\"/home/wzy/segment-anything/data/data2/dist.bin\",offset=offset,count=cnum),zqs,'F')\n",
    "# dist=dist.transpose(2,3,0,1)\n",
    "# print(dist.shape)\n",
    "# feq_lis=dist[:,0,:,:]\n",
    "\n",
    "# print(feq_lis.shape)\n"
   ]
  },
  {
   "cell_type": "code",
   "execution_count": 9,
   "metadata": {},
   "outputs": [],
   "source": [
    "# time=8\n",
    "# space=900\n",
    "# f_trap=dist[time,space,:,:]\n",
    "# delta_f=f_trap-feq_lis[space]\n",
    "# # mask,is_construct=get_mask(delta_f,predictor,radias=25,multi_points=False,fix_cneter_x=False,show=True)\n",
    "# mask,is_construct=get_mask(f_trap,delta_f,predictor,num_points=4,div=40,radias=30,multi_points=False,fix_cneter_x=False,show=True)\n",
    "# print(mask.shape)\n",
    "# print(is_construct)"
   ]
  },
  {
   "cell_type": "code",
   "execution_count": 10,
   "metadata": {},
   "outputs": [
    {
     "name": "stdout",
     "output_type": "stream",
     "text": [
      "(1001, 10, 31, 401)\n",
      "timestamp:6\n"
     ]
    },
    {
     "name": "stderr",
     "output_type": "stream",
     "text": [
      "100%|██████████| 1/1 [00:06<00:00,  6.88s/it]\n"
     ]
    }
   ],
   "source": [
    "# root=\"/home/wzy/segment-anything/data/source_data4/scan_gradB\"\n",
    "root=\"/home/wzy/segment-anything/data/source_data3/cmp2/3\"\n",
    "lis=os.listdir(root)\n",
    "\n",
    "for dir in [\"3\"]:\n",
    "    zqs = [31,401,1001,10]\n",
    "    cnum=np.prod(zqs)\n",
    "    bs = cnum*8\n",
    "    offset = 0\n",
    "    dist = np.reshape(np.fromfile(f\"/home/wzy/segment-anything/data/source_data3/cmp2/{dir}/dist.bin\",offset=offset,count=cnum),zqs,'F')\n",
    "    dist=dist.transpose(2,3,0,1)\n",
    "    print(dist.shape)\n",
    "    feq_lis=dist[:,0,:,:]\n",
    "\n",
    "    mask_res_dir=f\"/home/wzy/segment-anything/outputs/3/{dir}/mask_res\"\n",
    "    pict_res_dir=f\"/home/wzy/segment-anything/outputs/3/{dir}/pict\"\n",
    "    os.makedirs(mask_res_dir, exist_ok=True)\n",
    "    os.makedirs(pict_res_dir, exist_ok=True)\n",
    "    for time in [6]:\n",
    "        print(f\"timestamp:{time}\")\n",
    "        for space in tqdm.tqdm(range(500,501)):\n",
    "            f_trap=dist[space,time,:,:]\n",
    "            delta_f=f_trap-feq_lis[space,:,:]\n",
    "            mask,is_construct=get_mask(f_trap,delta_f,predictor,radias=25,div=20,multi_points=True,fix_cneter_x=False,save=True,save_dir=osp.join(pict_res_dir,f\"{time}_{space}_3.jpg\"))\n",
    "            # print(mask.shape)\n",
    "            # print(is_construct)\n",
    "            with open(osp.join(mask_res_dir,f\"{time}_{space}_{is_construct}.pkl\"),\"wb\") as fp:\n",
    "                pickle.dump((mask,is_construct),fp)"
   ]
  },
  {
   "cell_type": "code",
   "execution_count": 10,
   "metadata": {},
   "outputs": [
    {
     "data": {
      "text/plain": [
       "(10, 1001, 31, 401)"
      ]
     },
     "execution_count": 10,
     "metadata": {},
     "output_type": "execute_result"
    }
   ],
   "source": [
    "dist.shape"
   ]
  },
  {
   "cell_type": "code",
   "execution_count": 17,
   "metadata": {},
   "outputs": [
    {
     "name": "stdout",
     "output_type": "stream",
     "text": [
      "timestamp:8\n"
     ]
    },
    {
     "name": "stderr",
     "output_type": "stream",
     "text": [
      "100%|██████████| 300/300 [06:16<00:00,  1.25s/it]\n"
     ]
    }
   ],
   "source": [
    "\n",
    "mask_res_dir=\"/home/wzy/segment-anything/outputs/mask_res\"\n",
    "pict_res_dir=\"/home/wzy/segment-anything/outputs/picts_2\"\n",
    "os.makedirs(mask_res_dir, exist_ok=True)\n",
    "os.makedirs(pict_res_dir, exist_ok=True)\n",
    "for time in [8]:\n",
    "    print(f\"timestamp:{time}\")\n",
    "    for space in tqdm.tqdm(range(600,900)):\n",
    "        f_trap=dist[space,time,:,:]\n",
    "        delta_f=f_trap-feq_lis[space,:]\n",
    "        mask,is_construct=get_mask(f_trap,delta_f,predictor,radias=25,div=20,multi_points=True,fix_cneter_x=False,save=True,show=False,save_dir=osp.join(pict_res_dir,f\"{time}_{space}_2.jpg\"))\n",
    "        # print(mask.shape)\n",
    "        # break\n",
    "        # print(is_construct)\n",
    "        with open(osp.join(mask_res_dir,f\"{time}_{space}_{is_construct}.pkl\"),\"wb\") as fp:\n",
    "            pickle.dump((mask,is_construct),fp)"
   ]
  },
  {
   "cell_type": "code",
   "execution_count": 12,
   "metadata": {},
   "outputs": [],
   "source": [
    "# import matplotlib.pyplot as plt\n",
    "\n",
    "# plt.plot([1, 2, 3, 4])\n",
    "# plt.savefig('/home/wzy/segment-anything/outputs/3/pict/plot.png')\n"
   ]
  },
  {
   "cell_type": "code",
   "execution_count": 16,
   "metadata": {},
   "outputs": [
    {
     "name": "stdout",
     "output_type": "stream",
     "text": [
      "timestamp:0\n"
     ]
    },
    {
     "name": "stderr",
     "output_type": "stream",
     "text": [
      "100%|██████████| 1000/1000 [00:00<00:00, 46685.34it/s]\n"
     ]
    },
    {
     "name": "stdout",
     "output_type": "stream",
     "text": [
      "timestamp:1\n"
     ]
    },
    {
     "name": "stderr",
     "output_type": "stream",
     "text": [
      "100%|██████████| 1000/1000 [00:00<00:00, 46207.53it/s]\n"
     ]
    },
    {
     "name": "stdout",
     "output_type": "stream",
     "text": [
      "timestamp:2\n"
     ]
    },
    {
     "name": "stderr",
     "output_type": "stream",
     "text": [
      "100%|██████████| 1000/1000 [00:00<00:00, 46318.77it/s]\n"
     ]
    },
    {
     "name": "stdout",
     "output_type": "stream",
     "text": [
      "timestamp:3\n"
     ]
    },
    {
     "name": "stderr",
     "output_type": "stream",
     "text": [
      "100%|██████████| 1000/1000 [00:00<00:00, 46239.63it/s]\n"
     ]
    },
    {
     "name": "stdout",
     "output_type": "stream",
     "text": [
      "timestamp:4\n"
     ]
    },
    {
     "name": "stderr",
     "output_type": "stream",
     "text": [
      "100%|██████████| 1000/1000 [00:00<00:00, 46814.04it/s]\n"
     ]
    },
    {
     "name": "stdout",
     "output_type": "stream",
     "text": [
      "timestamp:5\n"
     ]
    },
    {
     "name": "stderr",
     "output_type": "stream",
     "text": [
      "100%|██████████| 1000/1000 [00:00<00:00, 46092.27it/s]\n"
     ]
    },
    {
     "name": "stdout",
     "output_type": "stream",
     "text": [
      "timestamp:6\n"
     ]
    },
    {
     "name": "stderr",
     "output_type": "stream",
     "text": [
      "100%|██████████| 1000/1000 [00:00<00:00, 46103.41it/s]\n"
     ]
    },
    {
     "name": "stdout",
     "output_type": "stream",
     "text": [
      "timestamp:7\n"
     ]
    },
    {
     "name": "stderr",
     "output_type": "stream",
     "text": [
      "100%|██████████| 1000/1000 [00:00<00:00, 6653.22it/s]\n"
     ]
    },
    {
     "name": "stdout",
     "output_type": "stream",
     "text": [
      "timestamp:8\n"
     ]
    },
    {
     "name": "stderr",
     "output_type": "stream",
     "text": [
      "100%|██████████| 1000/1000 [00:00<00:00, 8066.39it/s]\n"
     ]
    },
    {
     "name": "stdout",
     "output_type": "stream",
     "text": [
      "timestamp:9\n"
     ]
    },
    {
     "name": "stderr",
     "output_type": "stream",
     "text": [
      "100%|██████████| 1000/1000 [00:00<00:00, 8095.99it/s]\n"
     ]
    }
   ],
   "source": [
    "fl_lis=[]\n",
    "res_dir=\"/home/wzy/segment-anything/outputs/mask_res\"\n",
    "for time in range(dist.shape[0]):\n",
    "    print(f\"timestamp:{time}\")\n",
    "    temp=[]\n",
    "    for space in tqdm.tqdm(range(dist.shape[1]-1)):\n",
    "\n",
    "        m=1\n",
    "        real_time=time*100\n",
    "        omega2=wb_lis[real_time][space]\n",
    "        k2=k_lis[space]**2\n",
    "\n",
    "        mgL=m*omega2/k2\n",
    "\n",
    "        # delta=np.angle(wb_cplx_lis[real_time][space])\n",
    "        delta=np.angle(chor_lis[real_time+99][space][0]+chor_lis[real_time+99][space][1]*1j)\n",
    "        # delta=chor_lis[real_time][space][1]*2\n",
    "\n",
    "        f_trap=dist[time,space,:,:]\n",
    "        f_trap_2cir=np.concatenate((f_trap,f_trap),axis=0)\n",
    "        file_path=osp.join(res_dir,f\"{time}_{space}_True.pkl\")\n",
    "        if osp.exists(file_path):\n",
    "            with open(file_path,\"rb\") as fp:\n",
    "                mask,is_construct=pickle.load(fp)\n",
    "            fl=get_alpha(f_trap_2cir, delta,mask, mgL=mgL,x_range=[0,4*np.pi])\n",
    "            temp.append(-1*fl)\n",
    "        else:\n",
    "            temp.append(None)\n",
    "    fl_lis.append(temp)\n"
   ]
  },
  {
   "cell_type": "code",
   "execution_count": 37,
   "metadata": {},
   "outputs": [
    {
     "data": {
      "image/png": "[encoded data removed]",
      "text/plain": [
       "<Figure size 640x480 with 1 Axes>"
      ]
     },
     "metadata": {},
     "output_type": "display_data"
    }
   ],
   "source": [
    "\n",
    "def scatter(x_lis, y_lis):\n",
    "    x=[]\n",
    "    y=[]\n",
    "    for i in range(len(x_lis)):\n",
    "        if y_lis[i] is not None:\n",
    "            x.append(x_lis[i])\n",
    "            y.append(y_lis[i])\n",
    "    # print(y)\n",
    "    plt.scatter(x,y)\n",
    "\n",
    "space_lis=zpos_lis[:1000]\n",
    "for time in [9]:\n",
    "    plt.figure()\n",
    "    scatter(space_lis,fl_lis[time])\n",
    "    scatter(space_lis,alpha_lis[100*time+99])\n",
    "    plt.title(f\"time={time}\")\n",
    "    plt.xlim((-100,6000))\n",
    "    plt.xlabel(\"s\")\n",
    "    plt.ylabel(\"alpha\")\n",
    "    plt.axvline(x=0, color='r', linestyle='--')\n",
    "    plt.text(0, 0.9, 'equator', ha='left')\n",
    "    plt.legend([\"sam\",\"current\"])\n",
    "    plt.show()"
   ]
  },
  {
   "cell_type": "code",
   "execution_count": 15,
   "metadata": {},
   "outputs": [],
   "source": [
    "# time=9\n",
    "# real_time=time*100+99\n",
    "# alpha=alpha_lis[real_time,:]\n",
    "# plt.plot(alpha,\"ro\")\n",
    "# scatter(space_lis,[-i if i is not None else None for i in fl_lis[time]])\n",
    "# plt.xlim((400,1050))"
   ]
  }
 ],
 "metadata": {
  "kernelspec": {
   "display_name": "sam",
   "language": "python",
   "name": "python3"
  },
  "language_info": {
   "codemirror_mode": {
    "name": "ipython",
    "version": 3
   },
   "file_extension": ".py",
   "mimetype": "text/x-python",
   "name": "python",
   "nbconvert_exporter": "python",
   "pygments_lexer": "ipython3",
   "version": "3.8.13"
  }
 },
 "nbformat": 4,
 "nbformat_minor": 2
}
